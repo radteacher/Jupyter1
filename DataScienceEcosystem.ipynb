{
 "cells": [
  {
   "cell_type": "markdown",
   "id": "b855e5dc-2261-4dbc-a5dc-f7938a96e57f",
   "metadata": {
    "tags": []
   },
   "source": [
    "### Data Science Tools and EcoSystem"
   ]
  },
  {
   "cell_type": "code",
   "execution_count": null,
   "id": "7ecbda83-4ec4-448f-8fd3-d31da717320d",
   "metadata": {},
   "outputs": [],
   "source": [
    "In this notebook Data Science tools and environments are summarized "
   ]
  },
  {
   "cell_type": "code",
   "execution_count": null,
   "id": "a7a51d35-0319-4197-b735-50427348ef26",
   "metadata": {},
   "outputs": [],
   "source": [
    "Some of the most popular lanaguages that data scientist use are \n",
    "\n",
    "|--"
   ]
  }
 ],
 "metadata": {
  "kernelspec": {
   "display_name": "anaconda-2022.05-py39",
   "language": "python",
   "name": "conda-env-anaconda-2022.05-py39-py"
  },
  "language_info": {
   "codemirror_mode": {
    "name": "ipython",
    "version": 3
   },
   "file_extension": ".py",
   "mimetype": "text/x-python",
   "name": "python",
   "nbconvert_exporter": "python",
   "pygments_lexer": "ipython3",
   "version": "3.9.12"
  },
  "toc-showtags": true
 },
 "nbformat": 4,
 "nbformat_minor": 5
}
