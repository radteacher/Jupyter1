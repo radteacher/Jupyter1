{
 "cells": [
  {
   "cell_type": "markdown",
   "id": "a6b96902-ff05-4845-b24e-875858f38f85",
   "metadata": {
    "tags": []
   },
   "source": [
    "# Data Science Tools and EcoSystem"
   ]
  },
  {
   "cell_type": "markdown",
   "id": "c43bd8ba-9f25-42a1-8ee7-b1d38baca184",
   "metadata": {},
   "source": [
    "## Author\n",
    "Jake Staffel"
   ]
  },
  {
   "cell_type": "markdown",
   "id": "c108a749-f3e2-493e-ad20-4f4b4ed4ca6d",
   "metadata": {},
   "source": [
    "In this notebook, Data Science Tools and Ecosystem are summarized."
   ]
  },
  {
   "cell_type": "markdown",
   "id": "aceac985-8c4c-4fb8-8848-cae88e34bab6",
   "metadata": {},
   "source": [
    "**Objectives:**\n",
    "\n",
    "- To list popular languages that Data Scientist Use \n",
    "- To list commonly used libraries for Data Science \n",
    "- To list Data Science Tools \n",
    "- To give some examples of Python Arithmetic expressions that can be used in a python kernal \n",
    "\n"
   ]
  },
  {
   "cell_type": "markdown",
   "id": "c3831baa-fab6-4355-9583-cda42b579d66",
   "metadata": {},
   "source": [
    "Some of the popular languages that Data Scientist use are : \n",
    "    \n",
    "    1. Python\n",
    "    2. R \n",
    "    3. SQL"
   ]
  },
  {
   "cell_type": "markdown",
   "id": "eee8a6fe-337c-44f6-9884-bc71dca46e9e",
   "metadata": {},
   "source": [
    "Some of the commonly used Libraries for Data Scientist include: \n",
    "\n",
    "    1.SciPy\n",
    "    2.Pandas\n",
    "    3.NumPy\n",
    "    4.Matplotlib\n",
    "    5.Seaborn\n",
    "    6.Keras\n",
    "    7.PyTorch\n",
    "    8.TensorFlow\n",
    "    9. Vegas\n",
    "    10. R\n",
    "    11. ggplot2\n",
    "    12. Scikit-learn"
   ]
  },
  {
   "cell_type": "markdown",
   "id": "bc5b1c80-cfe6-402f-b241-6930bbcfa7f7",
   "metadata": {},
   "source": [
    "|Data Science Tools|\n",
    "|------------------|\n",
    "|Jupyter Notebooks|\n",
    "|JupyterLite|\n",
    "|Google Colab Notebook|\n",
    "|Jupyter Lab|\n",
    "|VS Code|\n",
    "|Anaconda|\n",
    "\n",
    "    \n",
    "    "
   ]
  },
  {
   "cell_type": "markdown",
   "id": "43a36548-8ce7-49d2-ba11-e5281fe75f55",
   "metadata": {},
   "source": [
    "### Below are a few examples of evaluating arithmetic expressions in Python"
   ]
  },
  {
   "cell_type": "code",
   "execution_count": 3,
   "id": "58651aab-80e8-456b-a1b5-2f43be7c8328",
   "metadata": {},
   "outputs": [
    {
     "data": {
      "text/plain": [
       "17"
      ]
     },
     "execution_count": 3,
     "metadata": {},
     "output_type": "execute_result"
    }
   ],
   "source": [
    "# This is a simple arithmatic expression to multiply then add integers\n",
    "\n",
    "(3*4) +5"
   ]
  },
  {
   "cell_type": "code",
   "execution_count": 11,
   "id": "51f38660-8e2a-4ac0-af84-35216685e391",
   "metadata": {},
   "outputs": [
    {
     "name": "stdout",
     "output_type": "stream",
     "text": [
      "200 minutes is\n",
      "3 hours and 20 minutes\n"
     ]
    }
   ],
   "source": [
    "# This will convert 200 minutes to hours by dividing by 60 then using modulus to determind the \n",
    "#remaining minutes\n",
    "\n",
    "print(\"200 minutes is\")\n",
    "print (str((int)(200/60)) + \" hours and \" + str(200 % 60) + \" minutes\")"
   ]
  },
  {
   "cell_type": "code",
   "execution_count": null,
   "id": "aa40838c-26dd-4ac7-8bfb-9c61fab9a747",
   "metadata": {},
   "outputs": [],
   "source": []
  }
 ],
 "metadata": {
  "kernelspec": {
   "display_name": "anaconda-2022.05-py39",
   "language": "python",
   "name": "conda-env-anaconda-2022.05-py39-py"
  },
  "language_info": {
   "codemirror_mode": {
    "name": "ipython",
    "version": 3
   },
   "file_extension": ".py",
   "mimetype": "text/x-python",
   "name": "python",
   "nbconvert_exporter": "python",
   "pygments_lexer": "ipython3",
   "version": "3.9.12"
  },
  "toc-showtags": true
 },
 "nbformat": 4,
 "nbformat_minor": 5
}
